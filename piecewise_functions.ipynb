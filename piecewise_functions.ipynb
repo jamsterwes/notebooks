{
 "cells": [
  {
   "cell_type": "markdown",
   "metadata": {},
   "source": [
    "## Piecewise Functions"
   ]
  },
  {
   "cell_type": "code",
   "execution_count": 122,
   "metadata": {
    "collapsed": false
   },
   "outputs": [],
   "source": [
    "def piecewise(arglist, constraints):\n",
    "    def getrulef(arglist, ruletext):\n",
    "        extract2 = {}\n",
    "        ftext = \"metro = lambda {arglist}: {ruletext}\".format(arglist=arglist,ruletext=ruletext)\n",
    "        exec(ftext, globals(), extract2)\n",
    "        return extract2[\"metro\"]\n",
    "    \n",
    "    template = \"\"\"def output({arglist}):\n",
    "        for rule, output in constraints.items():\n",
    "            if isinstance(rule, type(lambda: 0)):\n",
    "                rulef = rule\n",
    "            else:\n",
    "                rulef = getrulef(arglist_val, rule)\n",
    "            if rulef({arglist}):\n",
    "                if isinstance(output, type(lambda: 0)):\n",
    "                    return output({arglist})\n",
    "                else:\n",
    "                    return output\n",
    "        return None\"\"\".format(arglist=arglist)\n",
    "    extract = {}\n",
    "    exec(template, {**globals(), \"constraints\": constraints, \"arglist_val\": arglist, \"getrulef\": getrulef}, extract)\n",
    "    return extract[\"output\"]"
   ]
  },
  {
   "cell_type": "markdown",
   "metadata": {},
   "source": [
    "### Example: Determine sign of number"
   ]
  },
  {
   "cell_type": "code",
   "execution_count": 123,
   "metadata": {
    "collapsed": false
   },
   "outputs": [],
   "source": [
    "sign = piecewise(\"x\", {\n",
    "    \"x > 0\": 1,\n",
    "    \"x < 0\": -1,\n",
    "    \"x == 0\": 0\n",
    "})"
   ]
  },
  {
   "cell_type": "code",
   "execution_count": 124,
   "metadata": {
    "collapsed": false
   },
   "outputs": [
    {
     "data": {
      "text/plain": [
       "(1, -1, 0)"
      ]
     },
     "execution_count": 124,
     "metadata": {},
     "output_type": "execute_result"
    }
   ],
   "source": [
    "sign(4), sign(-6), sign(0)"
   ]
  },
  {
   "cell_type": "markdown",
   "metadata": {},
   "source": [
    "#### Helper Functions: Check if number is in range (exclusive/inclusive)"
   ]
  },
  {
   "cell_type": "code",
   "execution_count": 125,
   "metadata": {
    "collapsed": true
   },
   "outputs": [],
   "source": [
    "between = lambda l, v, r: l < v < r\n",
    "within = lambda l, v, r: l <= v <= r"
   ]
  },
  {
   "cell_type": "markdown",
   "metadata": {},
   "source": [
    "### Example: Determine case of letter"
   ]
  },
  {
   "cell_type": "code",
   "execution_count": 126,
   "metadata": {
    "collapsed": true
   },
   "outputs": [],
   "source": [
    "case = piecewise(\"char\", {\n",
    "    lambda c: not isinstance(c, str): None,\n",
    "    lambda c: len(c) is not 1: None,\n",
    "    lambda c: within('a', c, 'z'): \"lower\",\n",
    "    lambda c: within('A', c, 'Z'): \"upper\",\n",
    "    lambda c: within('0', c, '9'): \"number\"\n",
    "})"
   ]
  },
  {
   "cell_type": "code",
   "execution_count": 127,
   "metadata": {
    "collapsed": false
   },
   "outputs": [
    {
     "data": {
      "text/plain": [
       "('lower', 'number', 'upper')"
      ]
     },
     "execution_count": 127,
     "metadata": {},
     "output_type": "execute_result"
    }
   ],
   "source": [
    "case(\"b\"), case(\"6\"), case(\"G\")"
   ]
  }
 ],
 "metadata": {
  "kernelspec": {
   "display_name": "Python 3",
   "language": "python",
   "name": "python3"
  },
  "language_info": {
   "codemirror_mode": {
    "name": "ipython",
    "version": 3
   },
   "file_extension": ".py",
   "mimetype": "text/x-python",
   "name": "python",
   "nbconvert_exporter": "python",
   "pygments_lexer": "ipython3",
   "version": "3.6.0"
  }
 },
 "nbformat": 4,
 "nbformat_minor": 2
}
